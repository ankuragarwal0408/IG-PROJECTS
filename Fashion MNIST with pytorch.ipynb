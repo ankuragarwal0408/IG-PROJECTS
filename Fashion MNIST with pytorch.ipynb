{
  "nbformat": 4,
  "nbformat_minor": 0,
  "metadata": {
    "colab": {
      "name": "assignment.ipynb",
      "provenance": [],
      "collapsed_sections": [],
      "authorship_tag": "ABX9TyOV85DGjacotE+K4LfB8Vhw",
      "include_colab_link": true
    },
    "kernelspec": {
      "name": "python3",
      "display_name": "Python 3"
    }
  },
  "cells": [
    {
      "cell_type": "markdown",
      "metadata": {
        "id": "view-in-github",
        "colab_type": "text"
      },
      "source": [
        "<a href=\"https://colab.research.google.com/github/ankuragarwal0408/IG-PROJECTS/blob/master/Fashion%20MNIST%20with%20pytorch.ipynb\" target=\"_parent\"><img src=\"https://colab.research.google.com/assets/colab-badge.svg\" alt=\"Open In Colab\"/></a>"
      ]
    },
    {
      "cell_type": "code",
      "metadata": {
        "id": "M7mPYe3Y2f9y",
        "colab_type": "code",
        "outputId": "f7dfd46b-42e4-4402-8d87-e1650af6ea90",
        "colab": {
          "base_uri": "https://localhost:8080/",
          "height": 68
        }
      },
      "source": [
        "pip install torch\n"
      ],
      "execution_count": 0,
      "outputs": [
        {
          "output_type": "stream",
          "text": [
            "Requirement already satisfied: torch in /usr/local/lib/python3.6/dist-packages (1.5.0+cu101)\n",
            "Requirement already satisfied: future in /usr/local/lib/python3.6/dist-packages (from torch) (0.16.0)\n",
            "Requirement already satisfied: numpy in /usr/local/lib/python3.6/dist-packages (from torch) (1.18.4)\n"
          ],
          "name": "stdout"
        }
      ]
    },
    {
      "cell_type": "code",
      "metadata": {
        "id": "RR5sU9hO2jgm",
        "colab_type": "code",
        "colab": {}
      },
      "source": [
        "import matplotlib.pyplot as plt\n",
        "import numpy as np\n",
        "from sklearn.metrics import accuracy_score\n",
        "from sklearn.model_selection import train_test_split\n",
        "import torch\n",
        "from torchvision import datasets, transforms\n",
        "import helper\n",
        "import torch.nn as nn\n",
        "import torch.nn.functional as F\n",
        "# Define a transform to normalize the data\n",
        "transform = transforms.Compose([transforms.ToTensor(),\n",
        "                                transforms.Normalize((0.5,), (0.5,))])\n",
        "# Download and load the training data\n"
      ],
      "execution_count": 0,
      "outputs": []
    },
    {
      "cell_type": "code",
      "metadata": {
        "id": "t-5HGpUL2-q-",
        "colab_type": "code",
        "colab": {}
      },
      "source": [
        "trainset = datasets.FashionMNIST('~/.pytorch/F_MNIST_data/', download=True, train=True, transform=transform)\n",
        "trainloader = torch.utils.data.DataLoader(trainset, batch_size=64, shuffle=True)\n",
        "\n",
        "# Download and load the test data\n",
        "testset = datasets.FashionMNIST('~/.pytorch/F_MNIST_data/', download=True, train=False, transform=transform)\n",
        "testloader = torch.utils.data.DataLoader(testset, batch_size=64, shuffle=True)"
      ],
      "execution_count": 0,
      "outputs": []
    },
    {
      "cell_type": "code",
      "metadata": {
        "id": "I7fwj8rq3A33",
        "colab_type": "code",
        "outputId": "27b04956-9e75-4d04-c8ea-961bcb38b3f3",
        "colab": {
          "base_uri": "https://localhost:8080/",
          "height": 68
        }
      },
      "source": [
        "dataiter = iter(trainloader)\n",
        "images, labels = dataiter.next()\n",
        "print(type(images))\n",
        "print(images.shape)\n",
        "print(labels.shape)"
      ],
      "execution_count": 14,
      "outputs": [
        {
          "output_type": "stream",
          "text": [
            "<class 'torch.Tensor'>\n",
            "torch.Size([64, 1, 28, 28])\n",
            "torch.Size([64])\n"
          ],
          "name": "stdout"
        }
      ]
    },
    {
      "cell_type": "code",
      "metadata": {
        "id": "Eq-TxZJ63DF0",
        "colab_type": "code",
        "colab": {}
      },
      "source": [
        "class model(nn.Module):\n",
        "  def __init__(self):\n",
        "    super(model,self).__init__()\n",
        "    self.conv1 = nn.Conv2d(in_channels=1, out_channels=6, kernel_size=5)\n",
        "    self.conv2 = nn.Conv2d(in_channels=6, out_channels=12, kernel_size=5) \n",
        "    self.fc1 = nn.Linear(in_features=12*4*4, out_features=120)\n",
        "    self.fc2 = nn.Linear(in_features=120, out_features=60)\n",
        "    self.out = nn.Linear(in_features=60, out_features=10)    \n",
        "  def forward(self, t):\n",
        "        # implement the forward pass\n",
        "        t=self.conv1(t)\n",
        "        t=F.relu(t)\n",
        "        t=F.max_pool2d(t,kernel_size=2,stride=2)\n",
        "        t=self.conv2(t)\n",
        "        t=F.relu(t)\n",
        "        t=F.max_pool2d(t,kernel_size=2,stride=2)\n",
        "        t=t.reshape(-1,12*4*4)\n",
        "        t=self.fc1(t)\n",
        "        t=F.relu(t)\n",
        "        t=self.fc2(t)\n",
        "        t=F.relu(t)\n",
        "        t=self.out(t)\n",
        "        return t\n",
        "# Define the network architecture(model) using a class.\n",
        "# Use conv2d layers, activation function after each such layer, use Batchnorm and Maxpooling. Play with these parameters,\n",
        "# layers and things like kernel size, stride etc and see how it affects your results.\n",
        "# Finally use a linear layer in the end\n",
        "# Define the forward pass"
      ],
      "execution_count": 0,
      "outputs": []
    },
    {
      "cell_type": "code",
      "metadata": {
        "id": "EfR2nKSp7BpO",
        "colab_type": "code",
        "colab": {
          "base_uri": "https://localhost:8080/",
          "height": 34
        },
        "outputId": "402e31c7-4c01-4046-8a84-4197054f11e9"
      },
      "source": [
        "model=model()\n",
        "sample=next(iter(trainset))\n",
        "image,lable=sample\n",
        "image.shape"
      ],
      "execution_count": 16,
      "outputs": [
        {
          "output_type": "execute_result",
          "data": {
            "text/plain": [
              "torch.Size([1, 28, 28])"
            ]
          },
          "metadata": {
            "tags": []
          },
          "execution_count": 16
        }
      ]
    },
    {
      "cell_type": "code",
      "metadata": {
        "id": "dzzteR_u3Err",
        "colab_type": "code",
        "colab": {
          "base_uri": "https://localhost:8080/",
          "height": 867
        },
        "outputId": "f7a46f3c-32cb-4d1a-a8cf-2d7e04ba4639"
      },
      "source": [
        "criterion = nn.CrossEntropyLoss()\n",
        "optimizer = torch.optim.SGD(model.parameters(), lr=0.01)\n",
        "n_epochs = 50\n",
        "model.train()\n",
        "for epoch in range(n_epochs):\n",
        "    train_loss = 0.0\n",
        "    for data, target in trainloader:\n",
        "        optimizer.zero_grad()\n",
        "        output = model(data)\n",
        "        loss = criterion(output, target)\n",
        "        loss.backward()\n",
        "        optimizer.step()\n",
        "        train_loss += loss.item()*data.size(0)\n",
        "    train_loss = train_loss/len(trainloader.sampler)\n",
        "\n",
        "    print('Epoch: {} \\tTraining Loss: {:.6f}'.format(\n",
        "        epoch+1, \n",
        "        train_loss\n",
        "        ))\n",
        "# Define training the model\n",
        "    # defining the optimizer\n",
        "    # defining the loss function\n",
        "    # For each epoch and in each batch:\n",
        "        # clear the gradients\n",
        "        # compute the model output\n",
        "        # calculate loss; store and print them if you wish to print and see if the loss is decreasing.\n",
        "        # propagate loss backwards\n",
        "        # update model weights"
      ],
      "execution_count": 23,
      "outputs": [
        {
          "output_type": "stream",
          "text": [
            "Epoch: 1 \tTraining Loss: 0.745061\n",
            "Epoch: 2 \tTraining Loss: 0.637351\n",
            "Epoch: 3 \tTraining Loss: 0.570692\n",
            "Epoch: 4 \tTraining Loss: 0.522146\n",
            "Epoch: 5 \tTraining Loss: 0.484130\n",
            "Epoch: 6 \tTraining Loss: 0.458133\n",
            "Epoch: 7 \tTraining Loss: 0.435516\n",
            "Epoch: 8 \tTraining Loss: 0.416308\n",
            "Epoch: 9 \tTraining Loss: 0.400256\n",
            "Epoch: 10 \tTraining Loss: 0.385965\n",
            "Epoch: 11 \tTraining Loss: 0.373428\n",
            "Epoch: 12 \tTraining Loss: 0.361696\n",
            "Epoch: 13 \tTraining Loss: 0.351662\n",
            "Epoch: 14 \tTraining Loss: 0.344019\n",
            "Epoch: 15 \tTraining Loss: 0.335182\n",
            "Epoch: 16 \tTraining Loss: 0.329126\n",
            "Epoch: 17 \tTraining Loss: 0.323068\n",
            "Epoch: 18 \tTraining Loss: 0.316742\n",
            "Epoch: 19 \tTraining Loss: 0.310784\n",
            "Epoch: 20 \tTraining Loss: 0.306352\n",
            "Epoch: 21 \tTraining Loss: 0.301997\n",
            "Epoch: 22 \tTraining Loss: 0.297003\n",
            "Epoch: 23 \tTraining Loss: 0.292853\n",
            "Epoch: 24 \tTraining Loss: 0.289195\n",
            "Epoch: 25 \tTraining Loss: 0.285460\n",
            "Epoch: 26 \tTraining Loss: 0.282298\n",
            "Epoch: 27 \tTraining Loss: 0.278293\n",
            "Epoch: 28 \tTraining Loss: 0.275554\n",
            "Epoch: 29 \tTraining Loss: 0.272061\n",
            "Epoch: 30 \tTraining Loss: 0.268300\n",
            "Epoch: 31 \tTraining Loss: 0.266659\n",
            "Epoch: 32 \tTraining Loss: 0.262316\n",
            "Epoch: 33 \tTraining Loss: 0.260176\n",
            "Epoch: 34 \tTraining Loss: 0.257578\n",
            "Epoch: 35 \tTraining Loss: 0.254857\n",
            "Epoch: 36 \tTraining Loss: 0.251100\n",
            "Epoch: 37 \tTraining Loss: 0.250010\n",
            "Epoch: 38 \tTraining Loss: 0.247250\n",
            "Epoch: 39 \tTraining Loss: 0.244976\n",
            "Epoch: 40 \tTraining Loss: 0.243525\n",
            "Epoch: 41 \tTraining Loss: 0.239390\n",
            "Epoch: 42 \tTraining Loss: 0.237976\n",
            "Epoch: 43 \tTraining Loss: 0.234586\n",
            "Epoch: 44 \tTraining Loss: 0.232349\n",
            "Epoch: 45 \tTraining Loss: 0.230797\n",
            "Epoch: 46 \tTraining Loss: 0.228994\n",
            "Epoch: 47 \tTraining Loss: 0.226111\n",
            "Epoch: 48 \tTraining Loss: 0.225642\n",
            "Epoch: 49 \tTraining Loss: 0.222983\n",
            "Epoch: 50 \tTraining Loss: 0.220907\n"
          ],
          "name": "stdout"
        }
      ]
    },
    {
      "cell_type": "code",
      "metadata": {
        "id": "hKqSSGXn3F6w",
        "colab_type": "code",
        "colab": {
          "base_uri": "https://localhost:8080/",
          "height": 255
        },
        "outputId": "f292117f-f82a-4c9e-d0f6-9114d1081bd3"
      },
      "source": [
        "test_loss = 0.0\n",
        "class_correct = list(0. for i in range(10))\n",
        "class_total = list(0. for i in range(10))\n",
        "model.eval()\n",
        "for data, target in testloader:\n",
        "    output = model(data)\n",
        "    loss = criterion(output, target)\n",
        "    test_loss += loss.item()*data.size(0)\n",
        "    _, pred = torch.max(output, 1)\n",
        "    correct = np.squeeze(pred.eq(target.data.view_as(pred)))\n",
        "    for i in range(len(target)):\n",
        "        label = target.data[i]\n",
        "        class_correct[label] += correct[i].item()\n",
        "        class_total[label] += 1\n",
        "test_loss = test_loss/len(testloader.sampler)\n",
        "print('Test Loss: {:.6f}\\n'.format(test_loss))\n",
        "\n",
        "for i in range(10):\n",
        "    if class_total[i] > 0:\n",
        "        print('Test Accuracy of %5s: %2d%% (%2d/%2d)' % (\n",
        "            str(i), 100 * class_correct[i] / class_total[i],\n",
        "            np.sum(class_correct[i]), np.sum(class_total[i])))\n",
        "    else:\n",
        "        print('Test Accuracy of %5s: N/A (no training examples)' % (classes[i]))\n",
        "\n",
        "print('\\nTest Accuracy (Overall): %2d%% (%2d/%2d)' % (\n",
        "    100. * np.sum(class_correct) / np.sum(class_total),\n",
        "    np.sum(class_correct), np.sum(class_total)))     \n",
        "# Evaluate model on test set. This is done in the same way as for training but only till calculating output.\n",
        "# Then,convert output from tensor to numpy format.\n",
        "# convert to class labels\n",
        "# store the predictions\n",
        "# calculate accuracy of model\n",
        "# Try to improve accuracy by changing parameters, optimizer, loss functions, epochs etc\n",
        "# and explain your observations in a text file in the Github repository."
      ],
      "execution_count": 26,
      "outputs": [
        {
          "output_type": "stream",
          "text": [
            "Test Loss: 0.321213\n",
            "\n",
            "Test Accuracy of     0: 81% (815/1000)\n",
            "Test Accuracy of     1: 97% (979/1000)\n",
            "Test Accuracy of     2: 79% (792/1000)\n",
            "Test Accuracy of     3: 88% (882/1000)\n",
            "Test Accuracy of     4: 75% (759/1000)\n",
            "Test Accuracy of     5: 93% (939/1000)\n",
            "Test Accuracy of     6: 76% (766/1000)\n",
            "Test Accuracy of     7: 98% (986/1000)\n",
            "Test Accuracy of     8: 97% (970/1000)\n",
            "Test Accuracy of     9: 92% (923/1000)\n",
            "\n",
            "Test Accuracy (Overall): 88% (8811/10000)\n"
          ],
          "name": "stdout"
        }
      ]
    },
    {
      "cell_type": "code",
      "metadata": {
        "id": "q8M5G2Ap3Hcw",
        "colab_type": "code",
        "colab": {
          "base_uri": "https://localhost:8080/",
          "height": 241
        },
        "outputId": "49546623-e9b1-4c56-bf5e-c35e8cd643da"
      },
      "source": [
        "# check predictions by printing the output image for random test inputs.\n",
        "dataiter = iter(testloader)\n",
        "images, labels = dataiter.next()\n",
        "output = model(images)\n",
        "_, preds = torch.max(output, 1)\n",
        "images = images.numpy()\n",
        "fig = plt.figure(figsize=(25, 4))\n",
        "for idx in np.arange(20):\n",
        "    ax = fig.add_subplot(2, 20/2, idx+1, xticks=[], yticks=[])\n",
        "    ax.imshow(np.squeeze(images[idx]), cmap='gray')\n",
        "    ax.set_title(\"{} ({})\".format(str(preds[idx].item()), str(labels[idx].item())),\n",
        "                 color=(\"green\" if preds[idx]==labels[idx] else \"red\"))"
      ],
      "execution_count": 27,
      "outputs": [
        {
          "output_type": "display_data",
          "data": {
            "image/png": "[encoded data removed]",
            "text/plain": [
              "<Figure size 1800x288 with 20 Axes>"
            ]
          },
          "metadata": {
            "tags": []
          }
        }
      ]
    },
    {
      "cell_type": "code",
      "metadata": {
        "id": "6VYI8BNXQKou",
        "colab_type": "code",
        "colab": {}
      },
      "source": [
        ""
      ],
      "execution_count": 0,
      "outputs": []
    },
    {
      "cell_type": "code",
      "metadata": {
        "id": "6aU7I4tnYt5w",
        "colab_type": "code",
        "colab": {}
      },
      "source": [
        ""
      ],
      "execution_count": 0,
      "outputs": []
    }
  ]
}