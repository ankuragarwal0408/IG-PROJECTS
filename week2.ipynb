{
  "nbformat": 4,
  "nbformat_minor": 0,
  "metadata": {
    "kernelspec": {
      "display_name": "Python 3",
      "language": "python",
      "name": "python3"
    },
    "language_info": {
      "codemirror_mode": {
        "name": "ipython",
        "version": 3
      },
      "file_extension": ".py",
      "mimetype": "text/x-python",
      "name": "python",
      "nbconvert_exporter": "python",
      "pygments_lexer": "ipython3",
      "version": "3.7.6"
    },
    "colab": {
      "name": "week2.ipynb",
      "provenance": [],
      "collapsed_sections": []
    }
  },
  "cells": [
    {
      "cell_type": "code",
      "metadata": {
        "id": "1oyfPnjA7V3x",
        "colab_type": "code",
        "colab": {
          "base_uri": "https://localhost:8080/",
          "height": 88
        },
        "outputId": "648ea6b5-3c26-45c8-9285-db5477079075"
      },
      "source": [
        "%tensorflow_version 1.x\n",
        "import tensorflow as tf\n",
        "import numpy as np # linear algebra\n",
        "import seaborn as sns #statistical data visualization\n",
        "import pandas as pd # data processing, CSV file I/O (e.g. pd.read_csv)\n",
        "import matplotlib.pyplot as plt"
      ],
      "execution_count": 1,
      "outputs": [
        {
          "output_type": "stream",
          "text": [
            "TensorFlow 1.x selected.\n"
          ],
          "name": "stdout"
        },
        {
          "output_type": "stream",
          "text": [
            "/usr/local/lib/python3.6/dist-packages/statsmodels/tools/_testing.py:19: FutureWarning: pandas.util.testing is deprecated. Use the functions in the public API at pandas.testing instead.\n",
            "  import pandas.util.testing as tm\n"
          ],
          "name": "stderr"
        }
      ]
    },
    {
      "cell_type": "code",
      "metadata": {
        "id": "jvSZEl_W7ZFS",
        "colab_type": "code",
        "colab": {}
      },
      "source": [
        ""
      ],
      "execution_count": 0,
      "outputs": []
    },
    {
      "cell_type": "code",
      "metadata": {
        "id": "ugModfTD7Z9W",
        "colab_type": "code",
        "colab": {}
      },
      "source": [
        ""
      ],
      "execution_count": 0,
      "outputs": []
    },
    {
      "cell_type": "code",
      "metadata": {
        "scrolled": true,
        "id": "hz555YZW7V4I",
        "colab_type": "code",
        "outputId": "51503567-e9aa-476b-d724-6d2e3845402b",
        "colab": {
          "base_uri": "https://localhost:8080/",
          "height": 204
        }
      },
      "source": [
        "from urllib.request import urlretrieve\n",
        "iris = 'https://gist.githubusercontent.com/curran/a08a1080b88344b0c8a7/raw/639388c2cbc2120a14dcf466e85730eb8be498bb/iris.csv'\n",
        "urlretrieve(iris)\n",
        "Iris= pd.read_csv(iris, sep=',')\n",
        "\n",
        "Iris.head()"
      ],
      "execution_count": 2,
      "outputs": [
        {
          "output_type": "execute_result",
          "data": {
            "text/html": [
              "<div>\n",
              "<style scoped>\n",
              "    .dataframe tbody tr th:only-of-type {\n",
              "        vertical-align: middle;\n",
              "    }\n",
              "\n",
              "    .dataframe tbody tr th {\n",
              "        vertical-align: top;\n",
              "    }\n",
              "\n",
              "    .dataframe thead th {\n",
              "        text-align: right;\n",
              "    }\n",
              "</style>\n",
              "<table border=\"1\" class=\"dataframe\">\n",
              "  <thead>\n",
              "    <tr style=\"text-align: right;\">\n",
              "      <th></th>\n",
              "      <th>sepal_length</th>\n",
              "      <th>sepal_width</th>\n",
              "      <th>petal_length</th>\n",
              "      <th>petal_width</th>\n",
              "      <th>species</th>\n",
              "    </tr>\n",
              "  </thead>\n",
              "  <tbody>\n",
              "    <tr>\n",
              "      <th>0</th>\n",
              "      <td>5.1</td>\n",
              "      <td>3.5</td>\n",
              "      <td>1.4</td>\n",
              "      <td>0.2</td>\n",
              "      <td>setosa</td>\n",
              "    </tr>\n",
              "    <tr>\n",
              "      <th>1</th>\n",
              "      <td>4.9</td>\n",
              "      <td>3.0</td>\n",
              "      <td>1.4</td>\n",
              "      <td>0.2</td>\n",
              "      <td>setosa</td>\n",
              "    </tr>\n",
              "    <tr>\n",
              "      <th>2</th>\n",
              "      <td>4.7</td>\n",
              "      <td>3.2</td>\n",
              "      <td>1.3</td>\n",
              "      <td>0.2</td>\n",
              "      <td>setosa</td>\n",
              "    </tr>\n",
              "    <tr>\n",
              "      <th>3</th>\n",
              "      <td>4.6</td>\n",
              "      <td>3.1</td>\n",
              "      <td>1.5</td>\n",
              "      <td>0.2</td>\n",
              "      <td>setosa</td>\n",
              "    </tr>\n",
              "    <tr>\n",
              "      <th>4</th>\n",
              "      <td>5.0</td>\n",
              "      <td>3.6</td>\n",
              "      <td>1.4</td>\n",
              "      <td>0.2</td>\n",
              "      <td>setosa</td>\n",
              "    </tr>\n",
              "  </tbody>\n",
              "</table>\n",
              "</div>"
            ],
            "text/plain": [
              "   sepal_length  sepal_width  petal_length  petal_width species\n",
              "0           5.1          3.5           1.4          0.2  setosa\n",
              "1           4.9          3.0           1.4          0.2  setosa\n",
              "2           4.7          3.2           1.3          0.2  setosa\n",
              "3           4.6          3.1           1.5          0.2  setosa\n",
              "4           5.0          3.6           1.4          0.2  setosa"
            ]
          },
          "metadata": {
            "tags": []
          },
          "execution_count": 2
        }
      ]
    },
    {
      "cell_type": "code",
      "metadata": {
        "id": "k88MXO1O7V4d",
        "colab_type": "code",
        "outputId": "8769e718-2fac-4a28-8af4-fe91ee9e9e22",
        "colab": {
          "base_uri": "https://localhost:8080/",
          "height": 34
        }
      },
      "source": [
        "Iris.shape"
      ],
      "execution_count": 3,
      "outputs": [
        {
          "output_type": "execute_result",
          "data": {
            "text/plain": [
              "(150, 5)"
            ]
          },
          "metadata": {
            "tags": []
          },
          "execution_count": 3
        }
      ]
    },
    {
      "cell_type": "code",
      "metadata": {
        "id": "toAV3IWL7V4t",
        "colab_type": "code",
        "outputId": "a6e5dffa-51e3-4b27-fddb-3f46f98b45f5",
        "colab": {
          "base_uri": "https://localhost:8080/",
          "height": 34
        }
      },
      "source": [
        "Iris = Iris[:-50] \n",
        "Iris.shape"
      ],
      "execution_count": 4,
      "outputs": [
        {
          "output_type": "execute_result",
          "data": {
            "text/plain": [
              "(100, 5)"
            ]
          },
          "metadata": {
            "tags": []
          },
          "execution_count": 4
        }
      ]
    },
    {
      "cell_type": "code",
      "metadata": {
        "id": "h0oRl5oq7V48",
        "colab_type": "code",
        "outputId": "eadb2e1b-3f1e-48f4-caf4-ef4419fd16d7",
        "colab": {
          "base_uri": "https://localhost:8080/",
          "height": 204
        }
      },
      "source": [
        "Iris[\"species\"].replace({\"setosa\": 0, \"versicolor\": 1}, inplace=True)\n",
        "Iris.head()"
      ],
      "execution_count": 5,
      "outputs": [
        {
          "output_type": "execute_result",
          "data": {
            "text/html": [
              "<div>\n",
              "<style scoped>\n",
              "    .dataframe tbody tr th:only-of-type {\n",
              "        vertical-align: middle;\n",
              "    }\n",
              "\n",
              "    .dataframe tbody tr th {\n",
              "        vertical-align: top;\n",
              "    }\n",
              "\n",
              "    .dataframe thead th {\n",
              "        text-align: right;\n",
              "    }\n",
              "</style>\n",
              "<table border=\"1\" class=\"dataframe\">\n",
              "  <thead>\n",
              "    <tr style=\"text-align: right;\">\n",
              "      <th></th>\n",
              "      <th>sepal_length</th>\n",
              "      <th>sepal_width</th>\n",
              "      <th>petal_length</th>\n",
              "      <th>petal_width</th>\n",
              "      <th>species</th>\n",
              "    </tr>\n",
              "  </thead>\n",
              "  <tbody>\n",
              "    <tr>\n",
              "      <th>0</th>\n",
              "      <td>5.1</td>\n",
              "      <td>3.5</td>\n",
              "      <td>1.4</td>\n",
              "      <td>0.2</td>\n",
              "      <td>0</td>\n",
              "    </tr>\n",
              "    <tr>\n",
              "      <th>1</th>\n",
              "      <td>4.9</td>\n",
              "      <td>3.0</td>\n",
              "      <td>1.4</td>\n",
              "      <td>0.2</td>\n",
              "      <td>0</td>\n",
              "    </tr>\n",
              "    <tr>\n",
              "      <th>2</th>\n",
              "      <td>4.7</td>\n",
              "      <td>3.2</td>\n",
              "      <td>1.3</td>\n",
              "      <td>0.2</td>\n",
              "      <td>0</td>\n",
              "    </tr>\n",
              "    <tr>\n",
              "      <th>3</th>\n",
              "      <td>4.6</td>\n",
              "      <td>3.1</td>\n",
              "      <td>1.5</td>\n",
              "      <td>0.2</td>\n",
              "      <td>0</td>\n",
              "    </tr>\n",
              "    <tr>\n",
              "      <th>4</th>\n",
              "      <td>5.0</td>\n",
              "      <td>3.6</td>\n",
              "      <td>1.4</td>\n",
              "      <td>0.2</td>\n",
              "      <td>0</td>\n",
              "    </tr>\n",
              "  </tbody>\n",
              "</table>\n",
              "</div>"
            ],
            "text/plain": [
              "   sepal_length  sepal_width  petal_length  petal_width  species\n",
              "0           5.1          3.5           1.4          0.2        0\n",
              "1           4.9          3.0           1.4          0.2        0\n",
              "2           4.7          3.2           1.3          0.2        0\n",
              "3           4.6          3.1           1.5          0.2        0\n",
              "4           5.0          3.6           1.4          0.2        0"
            ]
          },
          "metadata": {
            "tags": []
          },
          "execution_count": 5
        }
      ]
    },
    {
      "cell_type": "code",
      "metadata": {
        "id": "gRjy3eQj7V5L",
        "colab_type": "code",
        "outputId": "404960ca-1467-4ff5-ee8c-907d11bacd56",
        "colab": {
          "base_uri": "https://localhost:8080/",
          "height": 382
        }
      },
      "source": [
        "sns.set(style='whitegrid')\n",
        "sns.set(color_codes=True)\n",
        "sns.lmplot(x=\"sepal_length\",y=\"sepal_width\", data=Iris, hue=\"species\", fit_reg=False)"
      ],
      "execution_count": 6,
      "outputs": [
        {
          "output_type": "execute_result",
          "data": {
            "text/plain": [
              "<seaborn.axisgrid.FacetGrid at 0x7fac61a855f8>"
            ]
          },
          "metadata": {
            "tags": []
          },
          "execution_count": 6
        },
        {
          "output_type": "display_data",
          "data": {
            "image/png": "[encoded data removed]",
            "text/plain": [
              "<Figure size 407.3x360 with 1 Axes>"
            ]
          },
          "metadata": {
            "tags": []
          }
        }
      ]
    },
    {
      "cell_type": "code",
      "metadata": {
        "id": "LZgY7y0-7V5c",
        "colab_type": "code",
        "colab": {}
      },
      "source": [
        "X = Iris.drop('species', axis=1).values #feature matrix\n",
        "Y = Iris.species.values #output\n",
        "\n"
      ],
      "execution_count": 0,
      "outputs": []
    },
    {
      "cell_type": "code",
      "metadata": {
        "scrolled": true,
        "id": "k_vruqUL7V5t",
        "colab_type": "code",
        "colab": {}
      },
      "source": [
        "seed = 5      #setting values of seed to get perfect random numbers\n",
        "np.random.seed(seed)\n",
        "tf.set_random_seed(seed)\n",
        "\n"
      ],
      "execution_count": 0,
      "outputs": []
    },
    {
      "cell_type": "code",
      "metadata": {
        "scrolled": true,
        "id": "6Jk6N9lc7V57",
        "colab_type": "code",
        "outputId": "8fc55910-46cf-421d-b02b-ae72b24dbe24",
        "colab": {
          "base_uri": "https://localhost:8080/",
          "height": 442
        }
      },
      "source": [
        "train_index=np.random.choice(X.shape[0], 80, replace=False)\n",
        "print(train_index)    #generating 80 row random matrix as train_index\n",
        "train_X=X[train_index,:]\n",
        "#print(train_X)\n",
        "test_index= np.array(list(set(range(len(X))) - set(train_index)))\n",
        "print(test_index)\n",
        "test_X=X[test_index]#remaining 20 row matrix as test_matrix\n",
        "print(test_X)"
      ],
      "execution_count": 9,
      "outputs": [
        {
          "output_type": "stream",
          "text": [
            "[66 32 46 28 74 23 10 20 17 35 97 37 70 40 60 34 42 57 12 69 94 56 22 39\n",
            " 24 13 63 71 55 87  6 88 64 26 48 50 72 54 21 25 33 29 52 14 85 79 95  3\n",
            " 43 11 98 45 83 67 89 86 49 82 59 19 81 38 68  2 31 84 51 36  4  0 58  5\n",
            " 96  1 93 41  9 18 91 47]\n",
            "[65 99  7  8 73 75 44 76 77 15 16 78 80 53 62 90 27 92 61 30]\n",
            "[[6.7 3.1 4.4 1.4]\n",
            " [5.7 2.8 4.1 1.3]\n",
            " [5.  3.4 1.5 0.2]\n",
            " [4.4 2.9 1.4 0.2]\n",
            " [6.1 2.8 4.7 1.2]\n",
            " [6.6 3.  4.4 1.4]\n",
            " [5.1 3.8 1.9 0.4]\n",
            " [6.8 2.8 4.8 1.4]\n",
            " [6.7 3.  5.  1.7]\n",
            " [5.7 4.4 1.5 0.4]\n",
            " [5.4 3.9 1.3 0.4]\n",
            " [6.  2.9 4.5 1.5]\n",
            " [5.5 2.4 3.8 1.1]\n",
            " [5.5 2.3 4.  1.3]\n",
            " [6.  2.2 4.  1. ]\n",
            " [5.5 2.6 4.4 1.2]\n",
            " [5.2 3.5 1.5 0.2]\n",
            " [5.8 2.6 4.  1.2]\n",
            " [5.9 3.  4.2 1.5]\n",
            " [4.8 3.1 1.6 0.2]]\n"
          ],
          "name": "stdout"
        }
      ]
    },
    {
      "cell_type": "code",
      "metadata": {
        "id": "6kzPZ7L27V6J",
        "colab_type": "code",
        "outputId": "fb4d4749-6f10-4baf-f284-e3e1a2bb0081",
        "colab": {
          "base_uri": "https://localhost:8080/",
          "height": 85
        }
      },
      "source": [
        "train_Y=Y[train_index] #same with Y matrix\n",
        "print(train_Y)\n",
        "test_Y=Y[test_index]\n",
        "print(test_Y)"
      ],
      "execution_count": 10,
      "outputs": [
        {
          "output_type": "stream",
          "text": [
            "[1 0 0 0 1 0 0 0 0 0 1 0 1 0 1 0 0 1 0 1 1 1 0 0 0 0 1 1 1 1 0 1 1 0 0 1 1\n",
            " 1 0 0 0 0 1 0 1 1 1 0 0 0 1 0 1 1 1 1 0 1 1 0 1 0 1 0 0 1 1 0 0 0 1 0 1 0\n",
            " 1 0 0 0 1 0]\n",
            "[1 1 0 0 1 1 0 1 1 0 0 1 1 1 1 1 0 1 1 0]\n"
          ],
          "name": "stdout"
        }
      ]
    },
    {
      "cell_type": "code",
      "metadata": {
        "id": "rX4b1Fb1lgNB",
        "colab_type": "code",
        "colab": {}
      },
      "source": [
        "# Define the normalized function\n",
        "def min_max_normalized(data): # we are using here min-max normalisation, helpful to bring down every values in all the feature columns of the dataset to common scale \n",
        "    col_max = np.max(data, axis=0)\n",
        "    col_min = np.min(data, axis=0)\n",
        "    return np.divide(data - col_min, col_max - col_min)"
      ],
      "execution_count": 0,
      "outputs": []
    },
    {
      "cell_type": "code",
      "metadata": {
        "id": "Mb-V4OKq7V6Y",
        "colab_type": "code",
        "colab": {}
      },
      "source": [
        "data=tf.placeholder(tf.float32,shape=[None,4])  #initialising variable for putting input variable\n",
        "target=tf.placeholder(tf.float32,shape=[None,1])#initialising variable for putting output variable\n",
        "w=tf.Variable(tf.random_normal(shape=[4,1]))   #random theta matrix\n",
        "b=tf.Variable(tf.random_normal(shape=[1,1]))   #random biasing vector\n",
        "init=tf.global_variables_initializer()\n",
        "sess = tf.Session()\n",
        "sess.run(init)\n",
        "mod = tf.matmul(data, w)+b         #defining model\n",
        "\n",
        "    \n",
        "                                        \n",
        "\n",
        "\n",
        "\n",
        "\n",
        "    \n",
        "\n",
        "   \n",
        "    \n",
        "    \n",
        " "
      ],
      "execution_count": 0,
      "outputs": []
    },
    {
      "cell_type": "code",
      "metadata": {
        "id": "FGUtoKK28Zvl",
        "colab_type": "code",
        "colab": {
          "base_uri": "https://localhost:8080/",
          "height": 88
        },
        "outputId": "8541783f-ac17-49c4-a0ac-a914d3b62877"
      },
      "source": [
        "loss = tf.reduce_mean(tf.nn.sigmoid_cross_entropy_with_logits(logits=mod, labels=target)) #defining loss\n",
        "learning_rate=0.003\n",
        "batch_size=30\n",
        "epochs=1500\n",
        "optimizer = tf.train.GradientDescentOptimizer(learning_rate).minimize(loss)#defining optimizer \n",
        "prediction = tf.round(tf.sigmoid(mod))  #rounds the values of sigmoid ouput into 1 or 0\n",
        "correct = tf.cast(tf.equal(prediction, target), dtype=tf.float32) #'equal' checks for equality of both prediction and target 'cast' function makes the 'correct'array 1 if equal or 0 if not equal\n",
        "accuracy = tf.reduce_mean(correct) #accuracy gives the percentages of 1 in the array'corect'\n",
        "    \n",
        "    "
      ],
      "execution_count": 13,
      "outputs": [
        {
          "output_type": "stream",
          "text": [
            "WARNING:tensorflow:From /tensorflow-1.15.2/python3.6/tensorflow_core/python/ops/nn_impl.py:183: where (from tensorflow.python.ops.array_ops) is deprecated and will be removed in a future version.\n",
            "Instructions for updating:\n",
            "Use tf.where in 2.0, which has the same broadcast rule as np.where\n"
          ],
          "name": "stdout"
        }
      ]
    },
    {
      "cell_type": "code",
      "metadata": {
        "id": "w6XRGtie7V6l",
        "colab_type": "code",
        "colab": {}
      },
      "source": [
        "with tf.Session() as sess:\n",
        "    sess.run(init)\n",
        "    cost_array=np.zeros(1500)\n",
        "    for epoch in range(1500):\n",
        "        rand_index = np.random.choice(len(train_X), size=batch_size)   #creates a random index with batch_size no.of rows \n",
        "        batch_x = train_X[rand_index]\n",
        "        batch_y = np.matrix(train_Y[rand_index]).T   #creates batch input and output\n",
        "        sess.run(optimizer, feed_dict={data: batch_x, target:batch_y})\n",
        "        c=sess.run(loss,feed_dict={data:batch_x,     #running optimizer,cost,accuracy\n",
        "                                   target:batch_y})\n",
        "        train_accuracy=sess.run(accuracy,feed_dict={data:batch_x,\n",
        "                                   target:batch_y})\n",
        "        \n",
        "        cost_array[epoch]=c    #store and print cost\n",
        "        if not epoch%100:\n",
        "            print(f'epoch:{epoch} cost={c} accuracy={train_accuracy}')\n",
        "\n",
        "    temp_test_acc = sess.run(accuracy, feed_dict={data: test_X, target: np.matrix(test_Y).T}) #check for test data's accuracy\n",
        "    print(' test_acc: {:5f} '.format(temp_test_acc)) \n",
        " \n",
        "      \n",
        "            \n",
        "\n",
        "plt.plot(epoch_array,cost_array)\n",
        "plt.title('Cross Entropy Loss')\n",
        "plt.xlabel('epoch')\n",
        "plt.ylabel('loss')\n",
        "plt.show()\n"
      ],
      "execution_count": 0,
      "outputs": []
    },
    {
      "cell_type": "code",
      "metadata": {
        "id": "Hm8CV39XAVef",
        "colab_type": "code",
        "colab": {}
      },
      "source": [
        ""
      ],
      "execution_count": 0,
      "outputs": []
    }
  ]
}