{
  "nbformat": 4,
  "nbformat_minor": 0,
  "metadata": {
    "kernelspec": {
      "display_name": "Python 3",
      "language": "python",
      "name": "python3"
    },
    "language_info": {
      "codemirror_mode": {
        "name": "ipython",
        "version": 3
      },
      "file_extension": ".py",
      "mimetype": "text/x-python",
      "name": "python",
      "nbconvert_exporter": "python",
      "pygments_lexer": "ipython3",
      "version": "3.7.4"
    },
    "colab": {
      "name": "WEEK 0 CODING ASST.ipynb",
      "provenance": [],
      "collapsed_sections": [],
      "toc_visible": true
    }
  },
  "cells": [
    {
      "cell_type": "code",
      "metadata": {
        "id": "_6LTWTmoXQuG",
        "colab_type": "code",
        "colab": {},
        "outputId": "74da9365-6791-4534-a8f0-1426aeef3e03"
      },
      "source": [
        "'''Note: \n",
        "\n",
        "* Before writing any code remember that this assigment is for helping you understand the basics of file\n",
        "handling in csv file. \n",
        "\n",
        "* This project is designed to have a work flow such that everyone is in same page for this purpose the variables are\n",
        "given a strict name which should not be changed or modified according to your convinience\n",
        "\n",
        "* Few of new functions like .head() .xticks().... and concepts may have been introduced in the assingment, so we encourage you\n",
        "all to go through them without skipping.\n",
        "\n",
        "*  functions which are to be used in the Your code sections are globally available so try to look for those where you have been prompted\n",
        "'''\n",
        "\n",
        "'''Its the data of a meal delivery company which operates in multiple cities. \n",
        "They have various fulfillment centers in these cities for dispatching meal orders to their customers.\n",
        "train.csv: Historical data of demand for a product-center combination \n",
        "fulfilment_center_info.csv: Information for fulfillment center like center area, city information etc.\n",
        "meal_info.csv: Product(Meal) features such as category, sub-category, current price and discount'''\n",
        "\n",
        "\n",
        "'''START CODE'''\n",
        "\n",
        "#Import necessary libraries: Numpy,pandas,matplotlib\n",
        "\n",
        "'''************************Your code here**********************'''\n",
        "import numpy as np\n",
        "import pandas as pd\n",
        "import matplotlib.pyplot as plt\n",
        "%matplotlib inline\n",
        "'''************************************************************'''\n",
        "\n",
        "\n",
        "#read meal_info.csv file from provided dataset into a df_meal named variable\n",
        "#Note: Proper file directory should be provided\n",
        "\n",
        "'''************************Your code here**********************'''\n",
        "df_meal=pd.read_csv('meal_info.csv')\n",
        "'''************************************************************'''\n",
        "\n",
        "\n",
        "df_meal.head()'''This is for displaying first five data points'''\n",
        "\n",
        "#read fulfilment_center_info.csv file from provided dataset\n",
        "#Note: Proper file directory should be provided\n",
        "\n",
        "'''************************Your code here**********************'''\n",
        "df_center=pd.read_csv('fulfilment_center_info.csv')\n",
        "'''************************************************************'''\n",
        "\n",
        "df_center.head()'''This is for displaying first five data points'''\n",
        "\n",
        "#read train.csv file from provided dataset\n",
        "#Note: Proper file directory should be provided\n",
        "\n",
        "'''************************Your code here**********************'''\n",
        "df_food=pd.read_csv('train.csv')\n",
        "'''************************************************************'''\n",
        "df_food.head()\n",
        "'''Since the provided information is in different files, your work here is to merge them.Look for the functions\n",
        "in pandas library to do so'''\n",
        "'''************************Your code here**********************'''\n",
        "filenames=['meal_info.csv','meal_info.csv','train.csv']\n",
        "df=[pd.read_csv(f) for f in filenames]\n",
        "'''************************************************************'''\n",
        "\n",
        "'''it will create a table with keys as category and values as num_orders \n",
        "and it will sum the values create a spreadsheet-style pivot table as a DataFrame'''\n",
        "\n",
        "table = pd.pivot_table(data=df,index='category',values='num_orders',aggfunc=np.sum)\n",
        "\n",
        "\n",
        "\n",
        "'''Graph tweaking\n",
        "************************\n",
        "Plot a bar graph with title 'Most popular food' for category(x-axis) vs number-of-orders(y-axis)\n",
        "\n",
        "give x label 'Food items'\n",
        "give y label 'Quantity sold'\n",
        "\n",
        "\n",
        "'''\n",
        "\n",
        "'''************Yourcode*********************'''\n",
        "\n",
        "#bar graph\n",
        "plt.bar(category,number-of-orders, color='g')\n",
        "\n",
        "#xticks \n",
        "plt.xticks(rotation=70) '''Actually it is used to do marking on the x axis and rotation is rotating these markings'''\n",
        "plt.legend()\n",
        "#x-axis labels \n",
        "\n",
        "plt.xlabel('Food items')\n",
        "#y-axis labels \n",
        "plt.ylabel('Quantity sold')\n",
        "\n",
        "#plot title \n",
        "\n",
        "plt.title('Most popular food')\n",
        "\n",
        "#save plot \n",
        "\n",
        "plt.savefig('Most popular food.png')\n",
        "#display \n",
        "\n",
        "plt.show()\n",
        "'''************************************************'''\n",
        "\n",
        "\n",
        "'''Comparison of weekly and monthly sales\n",
        " Create a new column\n",
        "* named 'revenue' where each element is product of 'checkout_price' and num_orders \n",
        "** named 'month' by using ['week'] column (week column value divided by 4 gives month value)'''\n",
        "\n",
        "\n",
        "\n",
        "'''**************************Your code******************************'''\n",
        "\n",
        "'''******************************************************************'''\n",
        "'''Here we have created two list month and month_order ,\n",
        "store month number in month list and revenue of each month in month_order'''\n",
        "#list to store month-wise revenue \n",
        "month=[] \n",
        "month_order=[] \n",
        "\n",
        "'''***********************************Your code***********************'''\n",
        "\n",
        "    \n",
        "'''*********************************************************************'''\n",
        "'''Here we have created two list week and week_order ,you need to store in them mapping the monthly orders'''    \n",
        "#list to store week-wise revenue \n",
        "week=[] \n",
        "week_order=[] \n",
        "\n",
        "'''***********************************Your code***********************'''\n",
        "\n",
        "\n",
        "'''*********************************************************************'''\n",
        "''' Plot two subplots in the same space : one for weekly revenue and other for monthly revenue.\n",
        "For weekly : Title(Weekly income),x_label(week),y_label(revenue); similarly for monthly revenue.\n",
        "'''\n",
        "\n",
        "'''************Yourcode*********************'''\n",
        "\n",
        "\n",
        "\n",
        "''' Display the plot'''\n"
      ],
      "execution_count": 0,
      "outputs": [
        {
          "output_type": "display_data",
          "data": {
            "image/png": "[encoded data removed]",
            "text/plain": [
              "<Figure size 432x288 with 1 Axes>"
            ]
          },
          "metadata": {
            "tags": [],
            "needs_background": "light"
          }
        },
        {
          "output_type": "display_data",
          "data": {
            "image/png": "[encoded data removed]",
            "text/plain": [
              "<Figure size 1440x360 with 2 Axes>"
            ]
          },
          "metadata": {
            "tags": [],
            "needs_background": "light"
          }
        }
      ]
    },
    {
      "cell_type": "markdown",
      "metadata": {
        "id": "SN1Js7MRXUAt",
        "colab_type": "text"
      },
      "source": [
        "# New Section"
      ]
    },
    {
      "cell_type": "code",
      "metadata": {
        "id": "wvWK18TQXQuN",
        "colab_type": "code",
        "colab": {}
      },
      "source": [
        "import numpy as np\n",
        "import pandas as pd\n",
        "import matplotlib.pyplot as plt\n",
        "%matplotlib inline"
      ],
      "execution_count": 0,
      "outputs": []
    },
    {
      "cell_type": "code",
      "metadata": {
        "id": "9r3IFAKbXQuQ",
        "colab_type": "code",
        "colab": {}
      },
      "source": [
        "df_meal=pd.read_csv('meal_info.csv')"
      ],
      "execution_count": 0,
      "outputs": []
    },
    {
      "cell_type": "code",
      "metadata": {
        "id": "FmFCN-cXXQuT",
        "colab_type": "code",
        "colab": {},
        "outputId": "f2338454-7998-473d-999e-c8a49f005c4a"
      },
      "source": [
        "df_meal.head()"
      ],
      "execution_count": 0,
      "outputs": [
        {
          "output_type": "execute_result",
          "data": {
            "text/html": [
              "<div>\n",
              "<style scoped>\n",
              "    .dataframe tbody tr th:only-of-type {\n",
              "        vertical-align: middle;\n",
              "    }\n",
              "\n",
              "    .dataframe tbody tr th {\n",
              "        vertical-align: top;\n",
              "    }\n",
              "\n",
              "    .dataframe thead th {\n",
              "        text-align: right;\n",
              "    }\n",
              "</style>\n",
              "<table border=\"1\" class=\"dataframe\">\n",
              "  <thead>\n",
              "    <tr style=\"text-align: right;\">\n",
              "      <th></th>\n",
              "      <th>meal_id</th>\n",
              "      <th>category</th>\n",
              "      <th>cuisine</th>\n",
              "    </tr>\n",
              "  </thead>\n",
              "  <tbody>\n",
              "    <tr>\n",
              "      <th>0</th>\n",
              "      <td>1885</td>\n",
              "      <td>Beverages</td>\n",
              "      <td>Thai</td>\n",
              "    </tr>\n",
              "    <tr>\n",
              "      <th>1</th>\n",
              "      <td>1993</td>\n",
              "      <td>Beverages</td>\n",
              "      <td>Thai</td>\n",
              "    </tr>\n",
              "    <tr>\n",
              "      <th>2</th>\n",
              "      <td>2539</td>\n",
              "      <td>Beverages</td>\n",
              "      <td>Thai</td>\n",
              "    </tr>\n",
              "    <tr>\n",
              "      <th>3</th>\n",
              "      <td>1248</td>\n",
              "      <td>Beverages</td>\n",
              "      <td>Indian</td>\n",
              "    </tr>\n",
              "    <tr>\n",
              "      <th>4</th>\n",
              "      <td>2631</td>\n",
              "      <td>Beverages</td>\n",
              "      <td>Indian</td>\n",
              "    </tr>\n",
              "  </tbody>\n",
              "</table>\n",
              "</div>"
            ],
            "text/plain": [
              "   meal_id   category cuisine\n",
              "0     1885  Beverages    Thai\n",
              "1     1993  Beverages    Thai\n",
              "2     2539  Beverages    Thai\n",
              "3     1248  Beverages  Indian\n",
              "4     2631  Beverages  Indian"
            ]
          },
          "metadata": {
            "tags": []
          },
          "execution_count": 28
        }
      ]
    },
    {
      "cell_type": "code",
      "metadata": {
        "id": "gJBVSQnzXQuW",
        "colab_type": "code",
        "colab": {}
      },
      "source": [
        "df_center=pd.read_csv('fulfilment_center_info.csv')"
      ],
      "execution_count": 0,
      "outputs": []
    },
    {
      "cell_type": "code",
      "metadata": {
        "id": "YmQI496YXQua",
        "colab_type": "code",
        "colab": {
          "base_uri": "https://localhost:8080/",
          "height": 204
        },
        "outputId": "3b84fe88-0567-4304-e5c1-0a068c5c5ef4"
      },
      "source": [
        "df_center.head()"
      ],
      "execution_count": 5,
      "outputs": [
        {
          "output_type": "execute_result",
          "data": {
            "text/html": [
              "<div>\n",
              "<style scoped>\n",
              "    .dataframe tbody tr th:only-of-type {\n",
              "        vertical-align: middle;\n",
              "    }\n",
              "\n",
              "    .dataframe tbody tr th {\n",
              "        vertical-align: top;\n",
              "    }\n",
              "\n",
              "    .dataframe thead th {\n",
              "        text-align: right;\n",
              "    }\n",
              "</style>\n",
              "<table border=\"1\" class=\"dataframe\">\n",
              "  <thead>\n",
              "    <tr style=\"text-align: right;\">\n",
              "      <th></th>\n",
              "      <th>center_id</th>\n",
              "      <th>city_code</th>\n",
              "      <th>region_code</th>\n",
              "      <th>center_type</th>\n",
              "      <th>op_area</th>\n",
              "    </tr>\n",
              "  </thead>\n",
              "  <tbody>\n",
              "    <tr>\n",
              "      <th>0</th>\n",
              "      <td>11</td>\n",
              "      <td>679</td>\n",
              "      <td>56</td>\n",
              "      <td>TYPE_A</td>\n",
              "      <td>3.7</td>\n",
              "    </tr>\n",
              "    <tr>\n",
              "      <th>1</th>\n",
              "      <td>13</td>\n",
              "      <td>590</td>\n",
              "      <td>56</td>\n",
              "      <td>TYPE_B</td>\n",
              "      <td>6.7</td>\n",
              "    </tr>\n",
              "    <tr>\n",
              "      <th>2</th>\n",
              "      <td>124</td>\n",
              "      <td>590</td>\n",
              "      <td>56</td>\n",
              "      <td>TYPE_C</td>\n",
              "      <td>4.0</td>\n",
              "    </tr>\n",
              "    <tr>\n",
              "      <th>3</th>\n",
              "      <td>66</td>\n",
              "      <td>648</td>\n",
              "      <td>34</td>\n",
              "      <td>TYPE_A</td>\n",
              "      <td>4.1</td>\n",
              "    </tr>\n",
              "    <tr>\n",
              "      <th>4</th>\n",
              "      <td>94</td>\n",
              "      <td>632</td>\n",
              "      <td>34</td>\n",
              "      <td>TYPE_C</td>\n",
              "      <td>3.6</td>\n",
              "    </tr>\n",
              "  </tbody>\n",
              "</table>\n",
              "</div>"
            ],
            "text/plain": [
              "   center_id  city_code  region_code center_type  op_area\n",
              "0         11        679           56      TYPE_A      3.7\n",
              "1         13        590           56      TYPE_B      6.7\n",
              "2        124        590           56      TYPE_C      4.0\n",
              "3         66        648           34      TYPE_A      4.1\n",
              "4         94        632           34      TYPE_C      3.6"
            ]
          },
          "metadata": {
            "tags": []
          },
          "execution_count": 5
        }
      ]
    },
    {
      "cell_type": "code",
      "metadata": {
        "id": "ZR3ZEbmQXQue",
        "colab_type": "code",
        "colab": {}
      },
      "source": [
        "df_food=pd.read_csv('train.csv')"
      ],
      "execution_count": 0,
      "outputs": []
    },
    {
      "cell_type": "code",
      "metadata": {
        "id": "8M7Em4TPXQui",
        "colab_type": "code",
        "colab": {
          "base_uri": "https://localhost:8080/",
          "height": 204
        },
        "outputId": "bd170d53-6f16-463e-ffa9-90ae8d7a7120"
      },
      "source": [
        "df_food.head()"
      ],
      "execution_count": 7,
      "outputs": [
        {
          "output_type": "execute_result",
          "data": {
            "text/html": [
              "<div>\n",
              "<style scoped>\n",
              "    .dataframe tbody tr th:only-of-type {\n",
              "        vertical-align: middle;\n",
              "    }\n",
              "\n",
              "    .dataframe tbody tr th {\n",
              "        vertical-align: top;\n",
              "    }\n",
              "\n",
              "    .dataframe thead th {\n",
              "        text-align: right;\n",
              "    }\n",
              "</style>\n",
              "<table border=\"1\" class=\"dataframe\">\n",
              "  <thead>\n",
              "    <tr style=\"text-align: right;\">\n",
              "      <th></th>\n",
              "      <th>id</th>\n",
              "      <th>week</th>\n",
              "      <th>center_id</th>\n",
              "      <th>meal_id</th>\n",
              "      <th>checkout_price</th>\n",
              "      <th>base_price</th>\n",
              "      <th>emailer_for_promotion</th>\n",
              "      <th>homepage_featured</th>\n",
              "      <th>num_orders</th>\n",
              "    </tr>\n",
              "  </thead>\n",
              "  <tbody>\n",
              "    <tr>\n",
              "      <th>0</th>\n",
              "      <td>1379560</td>\n",
              "      <td>1.0</td>\n",
              "      <td>55.0</td>\n",
              "      <td>1885.0</td>\n",
              "      <td>136.83</td>\n",
              "      <td>152.29</td>\n",
              "      <td>0.0</td>\n",
              "      <td>0.0</td>\n",
              "      <td>177.0</td>\n",
              "    </tr>\n",
              "    <tr>\n",
              "      <th>1</th>\n",
              "      <td>1466964</td>\n",
              "      <td>1.0</td>\n",
              "      <td>55.0</td>\n",
              "      <td>1993.0</td>\n",
              "      <td>136.83</td>\n",
              "      <td>135.83</td>\n",
              "      <td>0.0</td>\n",
              "      <td>0.0</td>\n",
              "      <td>270.0</td>\n",
              "    </tr>\n",
              "    <tr>\n",
              "      <th>2</th>\n",
              "      <td>1346989</td>\n",
              "      <td>1.0</td>\n",
              "      <td>55.0</td>\n",
              "      <td>2539.0</td>\n",
              "      <td>134.86</td>\n",
              "      <td>135.86</td>\n",
              "      <td>0.0</td>\n",
              "      <td>0.0</td>\n",
              "      <td>189.0</td>\n",
              "    </tr>\n",
              "    <tr>\n",
              "      <th>3</th>\n",
              "      <td>1338232</td>\n",
              "      <td>1.0</td>\n",
              "      <td>55.0</td>\n",
              "      <td>2139.0</td>\n",
              "      <td>339.50</td>\n",
              "      <td>437.53</td>\n",
              "      <td>0.0</td>\n",
              "      <td>0.0</td>\n",
              "      <td>54.0</td>\n",
              "    </tr>\n",
              "    <tr>\n",
              "      <th>4</th>\n",
              "      <td>1448490</td>\n",
              "      <td>1.0</td>\n",
              "      <td>55.0</td>\n",
              "      <td>2631.0</td>\n",
              "      <td>243.50</td>\n",
              "      <td>242.50</td>\n",
              "      <td>0.0</td>\n",
              "      <td>0.0</td>\n",
              "      <td>40.0</td>\n",
              "    </tr>\n",
              "  </tbody>\n",
              "</table>\n",
              "</div>"
            ],
            "text/plain": [
              "        id  week  ...  homepage_featured  num_orders\n",
              "0  1379560   1.0  ...                0.0       177.0\n",
              "1  1466964   1.0  ...                0.0       270.0\n",
              "2  1346989   1.0  ...                0.0       189.0\n",
              "3  1338232   1.0  ...                0.0        54.0\n",
              "4  1448490   1.0  ...                0.0        40.0\n",
              "\n",
              "[5 rows x 9 columns]"
            ]
          },
          "metadata": {
            "tags": []
          },
          "execution_count": 7
        }
      ]
    },
    {
      "cell_type": "code",
      "metadata": {
        "id": "6hYP3ORlXQul",
        "colab_type": "code",
        "colab": {}
      },
      "source": [
        "df=pd.merge(df_meal,df_food,how='inner',on=['meal_id'])"
      ],
      "execution_count": 0,
      "outputs": []
    },
    {
      "cell_type": "code",
      "metadata": {
        "id": "L_8y9_rQXQun",
        "colab_type": "code",
        "colab": {
          "base_uri": "https://localhost:8080/",
          "height": 483
        },
        "outputId": "3642fd74-80f9-440a-a2bd-29d91edf6c02"
      },
      "source": [
        "\n",
        "table = pd.pivot_table(data=df,index='category',values='num_orders',aggfunc=np.sum)\n",
        "table"
      ],
      "execution_count": 21,
      "outputs": [
        {
          "output_type": "execute_result",
          "data": {
            "text/html": [
              "<div>\n",
              "<style scoped>\n",
              "    .dataframe tbody tr th:only-of-type {\n",
              "        vertical-align: middle;\n",
              "    }\n",
              "\n",
              "    .dataframe tbody tr th {\n",
              "        vertical-align: top;\n",
              "    }\n",
              "\n",
              "    .dataframe thead th {\n",
              "        text-align: right;\n",
              "    }\n",
              "</style>\n",
              "<table border=\"1\" class=\"dataframe\">\n",
              "  <thead>\n",
              "    <tr style=\"text-align: right;\">\n",
              "      <th></th>\n",
              "      <th>num_orders</th>\n",
              "    </tr>\n",
              "    <tr>\n",
              "      <th>category</th>\n",
              "      <th></th>\n",
              "    </tr>\n",
              "  </thead>\n",
              "  <tbody>\n",
              "    <tr>\n",
              "      <th>Beverages</th>\n",
              "      <td>5338430.0</td>\n",
              "    </tr>\n",
              "    <tr>\n",
              "      <th>Biryani</th>\n",
              "      <td>94030.0</td>\n",
              "    </tr>\n",
              "    <tr>\n",
              "      <th>Desert</th>\n",
              "      <td>219277.0</td>\n",
              "    </tr>\n",
              "    <tr>\n",
              "      <th>Extras</th>\n",
              "      <td>558490.0</td>\n",
              "    </tr>\n",
              "    <tr>\n",
              "      <th>Other Snacks</th>\n",
              "      <td>624939.0</td>\n",
              "    </tr>\n",
              "    <tr>\n",
              "      <th>Pasta</th>\n",
              "      <td>235373.0</td>\n",
              "    </tr>\n",
              "    <tr>\n",
              "      <th>Pizza</th>\n",
              "      <td>664724.0</td>\n",
              "    </tr>\n",
              "    <tr>\n",
              "      <th>Rice Bowl</th>\n",
              "      <td>3392322.0</td>\n",
              "    </tr>\n",
              "    <tr>\n",
              "      <th>Salad</th>\n",
              "      <td>60351.0</td>\n",
              "    </tr>\n",
              "    <tr>\n",
              "      <th>Sandwich</th>\n",
              "      <td>1872171.0</td>\n",
              "    </tr>\n",
              "    <tr>\n",
              "      <th>Seafood</th>\n",
              "      <td>444117.0</td>\n",
              "    </tr>\n",
              "    <tr>\n",
              "      <th>Soup</th>\n",
              "      <td>79422.0</td>\n",
              "    </tr>\n",
              "    <tr>\n",
              "      <th>Starters</th>\n",
              "      <td>665276.0</td>\n",
              "    </tr>\n",
              "  </tbody>\n",
              "</table>\n",
              "</div>"
            ],
            "text/plain": [
              "              num_orders\n",
              "category                \n",
              "Beverages      5338430.0\n",
              "Biryani          94030.0\n",
              "Desert          219277.0\n",
              "Extras          558490.0\n",
              "Other Snacks    624939.0\n",
              "Pasta           235373.0\n",
              "Pizza           664724.0\n",
              "Rice Bowl      3392322.0\n",
              "Salad            60351.0\n",
              "Sandwich       1872171.0\n",
              "Seafood         444117.0\n",
              "Soup             79422.0\n",
              "Starters        665276.0"
            ]
          },
          "metadata": {
            "tags": []
          },
          "execution_count": 21
        }
      ]
    },
    {
      "cell_type": "code",
      "metadata": {
        "id": "ZYFuBkz_XQuq",
        "colab_type": "code",
        "colab": {
          "base_uri": "https://localhost:8080/",
          "height": 368
        },
        "outputId": "36c44658-7c5c-4467-c76a-aa41c52c041e"
      },
      "source": [
        "#bar graph\n",
        "ax=plt\n",
        "fig1=ax.bar(table.index,table['num_orders'], color='g')\n",
        "\n",
        "#xticks \n",
        "ax.xticks(rotation=70) \n",
        "'''Actually it is used to do marking on the x axis and rotation is rotating these markings'''\n",
        "\n",
        "#x-axis labels \n",
        "\n",
        "ax.xlabel('Food items')\n",
        "#y-axis labels \n",
        "ax.ylabel('Quantity sold')\n",
        "\n",
        "#plot title \n",
        "\n",
        "ax.title('Most popular food')\n",
        "ax.legend()\n",
        "#save plot \n",
        "\n",
        "ax.savefig('Most popular food.png')\n",
        "#display \n",
        "\n",
        "plt.show()"
      ],
      "execution_count": 25,
      "outputs": [
        {
          "output_type": "stream",
          "text": [
            "No handles with labels found to put in legend.\n"
          ],
          "name": "stderr"
        },
        {
          "output_type": "display_data",
          "data": {
            "image/png": "[encoded data removed]",
            "text/plain": [
              "<Figure size 432x288 with 1 Axes>"
            ]
          },
          "metadata": {
            "tags": [],
            "needs_background": "light"
          }
        }
      ]
    },
    {
      "cell_type": "code",
      "metadata": {
        "id": "Xhlasn3mXQuv",
        "colab_type": "code",
        "colab": {}
      },
      "source": [
        "df['revenue']=df['checkout_price']*df['num_orders']"
      ],
      "execution_count": 0,
      "outputs": []
    },
    {
      "cell_type": "code",
      "metadata": {
        "id": "W5a-gFHdXQuy",
        "colab_type": "code",
        "colab": {}
      },
      "source": [
        "df['month']=df['week']//4"
      ],
      "execution_count": 0,
      "outputs": []
    },
    {
      "cell_type": "code",
      "metadata": {
        "id": "np12wz14cYgh",
        "colab_type": "code",
        "colab": {
          "base_uri": "https://localhost:8080/",
          "height": 224
        },
        "outputId": "8a740646-1968-4040-96e2-e9377e0c7c2c"
      },
      "source": [
        "df.head()"
      ],
      "execution_count": 35,
      "outputs": [
        {
          "output_type": "execute_result",
          "data": {
            "text/html": [
              "<div>\n",
              "<style scoped>\n",
              "    .dataframe tbody tr th:only-of-type {\n",
              "        vertical-align: middle;\n",
              "    }\n",
              "\n",
              "    .dataframe tbody tr th {\n",
              "        vertical-align: top;\n",
              "    }\n",
              "\n",
              "    .dataframe thead th {\n",
              "        text-align: right;\n",
              "    }\n",
              "</style>\n",
              "<table border=\"1\" class=\"dataframe\">\n",
              "  <thead>\n",
              "    <tr style=\"text-align: right;\">\n",
              "      <th></th>\n",
              "      <th>meal_id</th>\n",
              "      <th>category</th>\n",
              "      <th>cuisine</th>\n",
              "      <th>id</th>\n",
              "      <th>week</th>\n",
              "      <th>center_id</th>\n",
              "      <th>checkout_price</th>\n",
              "      <th>base_price</th>\n",
              "      <th>emailer_for_promotion</th>\n",
              "      <th>homepage_featured</th>\n",
              "      <th>num_orders</th>\n",
              "      <th>month</th>\n",
              "      <th>revenue</th>\n",
              "    </tr>\n",
              "  </thead>\n",
              "  <tbody>\n",
              "    <tr>\n",
              "      <th>0</th>\n",
              "      <td>1885</td>\n",
              "      <td>Beverages</td>\n",
              "      <td>Thai</td>\n",
              "      <td>1379560</td>\n",
              "      <td>1.0</td>\n",
              "      <td>55.0</td>\n",
              "      <td>136.83</td>\n",
              "      <td>152.29</td>\n",
              "      <td>0.0</td>\n",
              "      <td>0.0</td>\n",
              "      <td>177.0</td>\n",
              "      <td>0.0</td>\n",
              "      <td>24218.91</td>\n",
              "    </tr>\n",
              "    <tr>\n",
              "      <th>1</th>\n",
              "      <td>1885</td>\n",
              "      <td>Beverages</td>\n",
              "      <td>Thai</td>\n",
              "      <td>1040403</td>\n",
              "      <td>1.0</td>\n",
              "      <td>24.0</td>\n",
              "      <td>136.83</td>\n",
              "      <td>136.83</td>\n",
              "      <td>0.0</td>\n",
              "      <td>0.0</td>\n",
              "      <td>1498.0</td>\n",
              "      <td>0.0</td>\n",
              "      <td>204971.34</td>\n",
              "    </tr>\n",
              "    <tr>\n",
              "      <th>2</th>\n",
              "      <td>1885</td>\n",
              "      <td>Beverages</td>\n",
              "      <td>Thai</td>\n",
              "      <td>1103215</td>\n",
              "      <td>1.0</td>\n",
              "      <td>11.0</td>\n",
              "      <td>136.83</td>\n",
              "      <td>136.83</td>\n",
              "      <td>0.0</td>\n",
              "      <td>0.0</td>\n",
              "      <td>959.0</td>\n",
              "      <td>0.0</td>\n",
              "      <td>131219.97</td>\n",
              "    </tr>\n",
              "    <tr>\n",
              "      <th>3</th>\n",
              "      <td>1885</td>\n",
              "      <td>Beverages</td>\n",
              "      <td>Thai</td>\n",
              "      <td>1034383</td>\n",
              "      <td>1.0</td>\n",
              "      <td>83.0</td>\n",
              "      <td>121.31</td>\n",
              "      <td>120.31</td>\n",
              "      <td>0.0</td>\n",
              "      <td>1.0</td>\n",
              "      <td>1025.0</td>\n",
              "      <td>0.0</td>\n",
              "      <td>124342.75</td>\n",
              "    </tr>\n",
              "    <tr>\n",
              "      <th>4</th>\n",
              "      <td>1885</td>\n",
              "      <td>Beverages</td>\n",
              "      <td>Thai</td>\n",
              "      <td>1118999</td>\n",
              "      <td>1.0</td>\n",
              "      <td>32.0</td>\n",
              "      <td>114.52</td>\n",
              "      <td>113.52</td>\n",
              "      <td>0.0</td>\n",
              "      <td>1.0</td>\n",
              "      <td>445.0</td>\n",
              "      <td>0.0</td>\n",
              "      <td>50961.40</td>\n",
              "    </tr>\n",
              "  </tbody>\n",
              "</table>\n",
              "</div>"
            ],
            "text/plain": [
              "   meal_id   category cuisine  ...  num_orders  month    revenue\n",
              "0     1885  Beverages    Thai  ...       177.0    0.0   24218.91\n",
              "1     1885  Beverages    Thai  ...      1498.0    0.0  204971.34\n",
              "2     1885  Beverages    Thai  ...       959.0    0.0  131219.97\n",
              "3     1885  Beverages    Thai  ...      1025.0    0.0  124342.75\n",
              "4     1885  Beverages    Thai  ...       445.0    0.0   50961.40\n",
              "\n",
              "[5 rows x 13 columns]"
            ]
          },
          "metadata": {
            "tags": []
          },
          "execution_count": 35
        }
      ]
    },
    {
      "cell_type": "code",
      "metadata": {
        "id": "5hjao93TcZye",
        "colab_type": "code",
        "colab": {}
      },
      "source": [
        "month=df['month'] \n",
        "month_order=df['revenue'] "
      ],
      "execution_count": 0,
      "outputs": []
    },
    {
      "cell_type": "code",
      "metadata": {
        "colab_type": "code",
        "id": "QYSWBxovOA6I",
        "colab": {}
      },
      "source": [
        "table2=pd.pivot_table(data=df,index='week',values='revenue',aggfunc=np.sum)"
      ],
      "execution_count": 0,
      "outputs": []
    },
    {
      "cell_type": "code",
      "metadata": {
        "id": "qMMbn0zdNkZW",
        "colab_type": "code",
        "colab": {
          "base_uri": "https://localhost:8080/",
          "height": 669
        },
        "outputId": "92a52ccf-98f2-4fa9-b972-17acdecfd195"
      },
      "source": [
        "table2"
      ],
      "execution_count": 38,
      "outputs": [
        {
          "output_type": "execute_result",
          "data": {
            "text/html": [
              "<div>\n",
              "<style scoped>\n",
              "    .dataframe tbody tr th:only-of-type {\n",
              "        vertical-align: middle;\n",
              "    }\n",
              "\n",
              "    .dataframe tbody tr th {\n",
              "        vertical-align: top;\n",
              "    }\n",
              "\n",
              "    .dataframe thead th {\n",
              "        text-align: right;\n",
              "    }\n",
              "</style>\n",
              "<table border=\"1\" class=\"dataframe\">\n",
              "  <thead>\n",
              "    <tr style=\"text-align: right;\">\n",
              "      <th></th>\n",
              "      <th>revenue</th>\n",
              "    </tr>\n",
              "    <tr>\n",
              "      <th>week</th>\n",
              "      <th></th>\n",
              "    </tr>\n",
              "  </thead>\n",
              "  <tbody>\n",
              "    <tr>\n",
              "      <th>1.0</th>\n",
              "      <td>2.185165e+08</td>\n",
              "    </tr>\n",
              "    <tr>\n",
              "      <th>2.0</th>\n",
              "      <td>1.999142e+08</td>\n",
              "    </tr>\n",
              "    <tr>\n",
              "      <th>3.0</th>\n",
              "      <td>1.780359e+08</td>\n",
              "    </tr>\n",
              "    <tr>\n",
              "      <th>4.0</th>\n",
              "      <td>1.961360e+08</td>\n",
              "    </tr>\n",
              "    <tr>\n",
              "      <th>5.0</th>\n",
              "      <td>2.596449e+08</td>\n",
              "    </tr>\n",
              "    <tr>\n",
              "      <th>6.0</th>\n",
              "      <td>2.133970e+08</td>\n",
              "    </tr>\n",
              "    <tr>\n",
              "      <th>7.0</th>\n",
              "      <td>2.077107e+08</td>\n",
              "    </tr>\n",
              "    <tr>\n",
              "      <th>8.0</th>\n",
              "      <td>1.500986e+08</td>\n",
              "    </tr>\n",
              "    <tr>\n",
              "      <th>9.0</th>\n",
              "      <td>1.981322e+08</td>\n",
              "    </tr>\n",
              "    <tr>\n",
              "      <th>10.0</th>\n",
              "      <td>2.206878e+08</td>\n",
              "    </tr>\n",
              "    <tr>\n",
              "      <th>11.0</th>\n",
              "      <td>2.055495e+08</td>\n",
              "    </tr>\n",
              "    <tr>\n",
              "      <th>12.0</th>\n",
              "      <td>1.826893e+08</td>\n",
              "    </tr>\n",
              "    <tr>\n",
              "      <th>13.0</th>\n",
              "      <td>1.817799e+08</td>\n",
              "    </tr>\n",
              "    <tr>\n",
              "      <th>14.0</th>\n",
              "      <td>1.677738e+08</td>\n",
              "    </tr>\n",
              "    <tr>\n",
              "      <th>15.0</th>\n",
              "      <td>1.696566e+08</td>\n",
              "    </tr>\n",
              "    <tr>\n",
              "      <th>16.0</th>\n",
              "      <td>1.607559e+08</td>\n",
              "    </tr>\n",
              "    <tr>\n",
              "      <th>17.0</th>\n",
              "      <td>2.035370e+08</td>\n",
              "    </tr>\n",
              "    <tr>\n",
              "      <th>18.0</th>\n",
              "      <td>2.204021e+08</td>\n",
              "    </tr>\n",
              "    <tr>\n",
              "      <th>19.0</th>\n",
              "      <td>4.416733e+07</td>\n",
              "    </tr>\n",
              "  </tbody>\n",
              "</table>\n",
              "</div>"
            ],
            "text/plain": [
              "           revenue\n",
              "week              \n",
              "1.0   2.185165e+08\n",
              "2.0   1.999142e+08\n",
              "3.0   1.780359e+08\n",
              "4.0   1.961360e+08\n",
              "5.0   2.596449e+08\n",
              "6.0   2.133970e+08\n",
              "7.0   2.077107e+08\n",
              "8.0   1.500986e+08\n",
              "9.0   1.981322e+08\n",
              "10.0  2.206878e+08\n",
              "11.0  2.055495e+08\n",
              "12.0  1.826893e+08\n",
              "13.0  1.817799e+08\n",
              "14.0  1.677738e+08\n",
              "15.0  1.696566e+08\n",
              "16.0  1.607559e+08\n",
              "17.0  2.035370e+08\n",
              "18.0  2.204021e+08\n",
              "19.0  4.416733e+07"
            ]
          },
          "metadata": {
            "tags": []
          },
          "execution_count": 38
        }
      ]
    },
    {
      "cell_type": "code",
      "metadata": {
        "id": "nGnr_G4sN4yW",
        "colab_type": "code",
        "colab": {}
      },
      "source": [
        "table3=pd.pivot_table(data=df,index='month',values='revenue',aggfunc=np.sum)"
      ],
      "execution_count": 0,
      "outputs": []
    },
    {
      "cell_type": "code",
      "metadata": {
        "id": "2lgUZe_NOHy0",
        "colab_type": "code",
        "colab": {
          "base_uri": "https://localhost:8080/",
          "height": 235
        },
        "outputId": "acc2b1ff-3776-4526-d12b-afd10c77d4fa"
      },
      "source": [
        "table3"
      ],
      "execution_count": 40,
      "outputs": [
        {
          "output_type": "execute_result",
          "data": {
            "text/html": [
              "<div>\n",
              "<style scoped>\n",
              "    .dataframe tbody tr th:only-of-type {\n",
              "        vertical-align: middle;\n",
              "    }\n",
              "\n",
              "    .dataframe tbody tr th {\n",
              "        vertical-align: top;\n",
              "    }\n",
              "\n",
              "    .dataframe thead th {\n",
              "        text-align: right;\n",
              "    }\n",
              "</style>\n",
              "<table border=\"1\" class=\"dataframe\">\n",
              "  <thead>\n",
              "    <tr style=\"text-align: right;\">\n",
              "      <th></th>\n",
              "      <th>revenue</th>\n",
              "    </tr>\n",
              "    <tr>\n",
              "      <th>month</th>\n",
              "      <th></th>\n",
              "    </tr>\n",
              "  </thead>\n",
              "  <tbody>\n",
              "    <tr>\n",
              "      <th>0.0</th>\n",
              "      <td>5.964666e+08</td>\n",
              "    </tr>\n",
              "    <tr>\n",
              "      <th>1.0</th>\n",
              "      <td>8.768886e+08</td>\n",
              "    </tr>\n",
              "    <tr>\n",
              "      <th>2.0</th>\n",
              "      <td>7.744681e+08</td>\n",
              "    </tr>\n",
              "    <tr>\n",
              "      <th>3.0</th>\n",
              "      <td>7.018996e+08</td>\n",
              "    </tr>\n",
              "    <tr>\n",
              "      <th>4.0</th>\n",
              "      <td>6.288624e+08</td>\n",
              "    </tr>\n",
              "  </tbody>\n",
              "</table>\n",
              "</div>"
            ],
            "text/plain": [
              "            revenue\n",
              "month              \n",
              "0.0    5.964666e+08\n",
              "1.0    8.768886e+08\n",
              "2.0    7.744681e+08\n",
              "3.0    7.018996e+08\n",
              "4.0    6.288624e+08"
            ]
          },
          "metadata": {
            "tags": []
          },
          "execution_count": 40
        }
      ]
    },
    {
      "cell_type": "code",
      "metadata": {
        "id": "AZUadGy8OJe3",
        "colab_type": "code",
        "colab": {
          "base_uri": "https://localhost:8080/",
          "height": 293
        },
        "outputId": "3db178c7-0b5e-4cf6-9718-0df0f36e09b0"
      },
      "source": [
        "fig, axes = plt.subplots(nrows=1, ncols=2)\n",
        "plt.subplot(1,2,1)\n",
        "plt.plot(table2.index,table2['revenue'], 'g') # More on color options later\n",
        "plt.subplot(1,2,2)\n",
        "plt.plot(table3.index,table3['revenue'], 'g')"
      ],
      "execution_count": 43,
      "outputs": [
        {
          "output_type": "execute_result",
          "data": {
            "text/plain": [
              "[<matplotlib.lines.Line2D at 0x7fe6a1a38d68>]"
            ]
          },
          "metadata": {
            "tags": []
          },
          "execution_count": 43
        },
        {
          "output_type": "display_data",
          "data": {
            "image/png": "[encoded data removed]",
            "text/plain": [
              "<Figure size 432x288 with 2 Axes>"
            ]
          },
          "metadata": {
            "tags": [],
            "needs_background": "light"
          }
        }
      ]
    },
    {
      "cell_type": "code",
      "metadata": {
        "id": "NjZp6HKZVApq",
        "colab_type": "code",
        "colab": {}
      },
      "source": [
        ""
      ],
      "execution_count": 0,
      "outputs": []
    }
  ]
}